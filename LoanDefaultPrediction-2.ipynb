{
 "cells": [
  {
   "attachments": {
    "COUR_IPO.png": {
     "image/png": "[encoded data removed]"
    }
   },
   "cell_type": "markdown",
   "metadata": {},
   "source": [
    "![COUR_IPO.png](attachment:COUR_IPO.png)"
   ]
  },
  {
   "cell_type": "markdown",
   "metadata": {},
   "source": [
    "# Welcome to the Data Science Coding Challange!\n",
    "\n",
    "Test your skills in a real-world coding challenge. Coding Challenges provide CS & DS Coding Competitions with Prizes and achievement badges!\n",
    "\n",
    "CS & DS learners want to be challenged as a way to evaluate if they’re job ready. So, why not create fun challenges and give winners something truly valuable such as complimentary access to select Data Science courses, or the ability to receive an achievement badge on their Coursera Skills Profile - highlighting their performance to recruiters."
   ]
  },
  {
   "cell_type": "markdown",
   "metadata": {},
   "source": [
    "## Introduction\n",
    "\n",
    "In this challenge, you'll get the opportunity to tackle one of the most industry-relevant machine learning problems with a unique dataset that will put your modeling skills to the test. Financial loan services are leveraged by companies across many industries, from big banks to financial institutions to government loans. One of the primary objectives of companies with financial loan services is to decrease payment defaults and ensure that individuals are paying back their loans as expected. In order to do this efficiently and systematically, many companies employ machine learning to predict which individuals are at the highest risk of defaulting on their loans, so that proper interventions can be effectively deployed to the right audience.\n",
    "\n",
    "In this challenge, we will be tackling the loan default prediction problem on a very unique and interesting group of individuals who have taken financial loans. \n",
    "\n",
    "Imagine that you are a new data scientist at a major financial institution and you are tasked with building a model that can predict which individuals will default on their loan payments. We have provided a dataset that is a sample of individuals who received loans in 2021. \n",
    "\n",
    "This financial institution has a vested interest in understanding the likelihood of each individual to default on their loan payments so that resources can be allocated appropriately to support these borrowers. In this challenge, you will use your machine learning toolkit to do just that!"
   ]
  },
  {
   "cell_type": "markdown",
   "metadata": {},
   "source": [
    "## Understanding the Datasets"
   ]
  },
  {
   "cell_type": "markdown",
   "metadata": {},
   "source": [
    "### Train vs. Test\n",
    "In this competition, you’ll gain access to two datasets that are samples of past borrowers of a financial institution that contain information about the individual and the specific loan. One dataset is titled `train.csv` and the other is titled `test.csv`.\n",
    "\n",
    "`train.csv` contains 70% of the overall sample (255,347 borrowers to be exact) and importantly, will reveal whether or not the borrower has defaulted on their loan payments (the “ground truth”).\n",
    "\n",
    "The `test.csv` dataset contains the exact same information about the remaining segment of the overall sample (109,435 borrowers to be exact), but does not disclose the “ground truth” for each borrower. It’s your job to predict this outcome!\n",
    "\n",
    "Using the patterns you find in the `train.csv` data, predict whether the borrowers in `test.csv` will default on their loan payments, or not."
   ]
  },
  {
   "cell_type": "markdown",
   "metadata": {},
   "source": [
    "### Dataset descriptions\n",
    "Both `train.csv` and `test.csv` contain one row for each unique Loan. For each Loan, a single observation (`LoanID`) is included during which the loan was active. \n",
    "\n",
    "In addition to this identifier column, the `train.csv` dataset also contains the target label for the task, a binary column `Default` which indicates if a borrower has defaulted on payments.\n",
    "\n",
    "Besides that column, both datasets have an identical set of features that can be used to train your model to make predictions. Below you can see descriptions of each feature. Familiarize yourself with them so that you can harness them most effectively for this machine learning task!"
   ]
  },
  {
   "cell_type": "code",
   "execution_count": 1,
   "metadata": {},
   "outputs": [
    {
     "data": {
      "text/html": [
       "<div>\n",
       "<style scoped>\n",
       "    .dataframe tbody tr th:only-of-type {\n",
       "        vertical-align: middle;\n",
       "    }\n",
       "\n",
       "    .dataframe tbody tr th {\n",
       "        vertical-align: top;\n",
       "    }\n",
       "\n",
       "    .dataframe thead th {\n",
       "        text-align: right;\n",
       "    }\n",
       "</style>\n",
       "<table border=\"1\" class=\"dataframe\">\n",
       "  <thead>\n",
       "    <tr style=\"text-align: right;\">\n",
       "      <th></th>\n",
       "      <th>Column_name</th>\n",
       "      <th>Column_type</th>\n",
       "      <th>Data_type</th>\n",
       "      <th>Description</th>\n",
       "    </tr>\n",
       "  </thead>\n",
       "  <tbody>\n",
       "    <tr>\n",
       "      <th>0</th>\n",
       "      <td>LoanID</td>\n",
       "      <td>Identifier</td>\n",
       "      <td>string</td>\n",
       "      <td>A unique identifier for each loan.</td>\n",
       "    </tr>\n",
       "    <tr>\n",
       "      <th>1</th>\n",
       "      <td>Age</td>\n",
       "      <td>Feature</td>\n",
       "      <td>integer</td>\n",
       "      <td>The age of the borrower.</td>\n",
       "    </tr>\n",
       "    <tr>\n",
       "      <th>2</th>\n",
       "      <td>Income</td>\n",
       "      <td>Feature</td>\n",
       "      <td>integer</td>\n",
       "      <td>The annual income of the borrower.</td>\n",
       "    </tr>\n",
       "    <tr>\n",
       "      <th>3</th>\n",
       "      <td>LoanAmount</td>\n",
       "      <td>Feature</td>\n",
       "      <td>integer</td>\n",
       "      <td>The amount of money being borrowed.</td>\n",
       "    </tr>\n",
       "    <tr>\n",
       "      <th>4</th>\n",
       "      <td>CreditScore</td>\n",
       "      <td>Feature</td>\n",
       "      <td>integer</td>\n",
       "      <td>The credit score of the borrower, indicating their creditworthiness.</td>\n",
       "    </tr>\n",
       "    <tr>\n",
       "      <th>5</th>\n",
       "      <td>MonthsEmployed</td>\n",
       "      <td>Feature</td>\n",
       "      <td>integer</td>\n",
       "      <td>The number of months the borrower has been employed.</td>\n",
       "    </tr>\n",
       "    <tr>\n",
       "      <th>6</th>\n",
       "      <td>NumCreditLines</td>\n",
       "      <td>Feature</td>\n",
       "      <td>integer</td>\n",
       "      <td>The number of credit lines the borrower has open.</td>\n",
       "    </tr>\n",
       "    <tr>\n",
       "      <th>7</th>\n",
       "      <td>InterestRate</td>\n",
       "      <td>Feature</td>\n",
       "      <td>float</td>\n",
       "      <td>The interest rate for the loan.</td>\n",
       "    </tr>\n",
       "    <tr>\n",
       "      <th>8</th>\n",
       "      <td>LoanTerm</td>\n",
       "      <td>Feature</td>\n",
       "      <td>integer</td>\n",
       "      <td>The term length of the loan in months.</td>\n",
       "    </tr>\n",
       "    <tr>\n",
       "      <th>9</th>\n",
       "      <td>DTIRatio</td>\n",
       "      <td>Feature</td>\n",
       "      <td>float</td>\n",
       "      <td>The Debt-to-Income ratio, indicating the borrower's debt compared to their income.</td>\n",
       "    </tr>\n",
       "    <tr>\n",
       "      <th>10</th>\n",
       "      <td>Education</td>\n",
       "      <td>Feature</td>\n",
       "      <td>string</td>\n",
       "      <td>The highest level of education attained by the borrower (PhD, Master's, Bachelor's, High School).</td>\n",
       "    </tr>\n",
       "    <tr>\n",
       "      <th>11</th>\n",
       "      <td>EmploymentType</td>\n",
       "      <td>Feature</td>\n",
       "      <td>string</td>\n",
       "      <td>The type of employment status of the borrower (Full-time, Part-time, Self-employed, Unemployed).</td>\n",
       "    </tr>\n",
       "    <tr>\n",
       "      <th>12</th>\n",
       "      <td>MaritalStatus</td>\n",
       "      <td>Feature</td>\n",
       "      <td>string</td>\n",
       "      <td>The marital status of the borrower (Single, Married, Divorced).</td>\n",
       "    </tr>\n",
       "    <tr>\n",
       "      <th>13</th>\n",
       "      <td>HasMortgage</td>\n",
       "      <td>Feature</td>\n",
       "      <td>string</td>\n",
       "      <td>Whether the borrower has a mortgage (Yes or No).</td>\n",
       "    </tr>\n",
       "    <tr>\n",
       "      <th>14</th>\n",
       "      <td>HasDependents</td>\n",
       "      <td>Feature</td>\n",
       "      <td>string</td>\n",
       "      <td>Whether the borrower has dependents (Yes or No).</td>\n",
       "    </tr>\n",
       "    <tr>\n",
       "      <th>15</th>\n",
       "      <td>LoanPurpose</td>\n",
       "      <td>Feature</td>\n",
       "      <td>string</td>\n",
       "      <td>The purpose of the loan (Home, Auto, Education, Business, Other).</td>\n",
       "    </tr>\n",
       "    <tr>\n",
       "      <th>16</th>\n",
       "      <td>HasCoSigner</td>\n",
       "      <td>Feature</td>\n",
       "      <td>string</td>\n",
       "      <td>Whether the loan has a co-signer (Yes or No).</td>\n",
       "    </tr>\n",
       "    <tr>\n",
       "      <th>17</th>\n",
       "      <td>Default</td>\n",
       "      <td>Target</td>\n",
       "      <td>integer</td>\n",
       "      <td>The binary target variable indicating whether the loan defaulted (1) or not (0).</td>\n",
       "    </tr>\n",
       "  </tbody>\n",
       "</table>\n",
       "</div>"
      ],
      "text/plain": [
       "       Column_name Column_type Data_type  \\\n",
       "0           LoanID  Identifier    string   \n",
       "1              Age     Feature   integer   \n",
       "2           Income     Feature   integer   \n",
       "3       LoanAmount     Feature   integer   \n",
       "4      CreditScore     Feature   integer   \n",
       "5   MonthsEmployed     Feature   integer   \n",
       "6   NumCreditLines     Feature   integer   \n",
       "7     InterestRate     Feature     float   \n",
       "8         LoanTerm     Feature   integer   \n",
       "9         DTIRatio     Feature     float   \n",
       "10       Education     Feature    string   \n",
       "11  EmploymentType     Feature    string   \n",
       "12   MaritalStatus     Feature    string   \n",
       "13     HasMortgage     Feature    string   \n",
       "14   HasDependents     Feature    string   \n",
       "15     LoanPurpose     Feature    string   \n",
       "16     HasCoSigner     Feature    string   \n",
       "17         Default      Target   integer   \n",
       "\n",
       "                                                                                          Description  \n",
       "0                                                                  A unique identifier for each loan.  \n",
       "1                                                                            The age of the borrower.  \n",
       "2                                                                  The annual income of the borrower.  \n",
       "3                                                                 The amount of money being borrowed.  \n",
       "4                                The credit score of the borrower, indicating their creditworthiness.  \n",
       "5                                                The number of months the borrower has been employed.  \n",
       "6                                                   The number of credit lines the borrower has open.  \n",
       "7                                                                     The interest rate for the loan.  \n",
       "8                                                              The term length of the loan in months.  \n",
       "9                  The Debt-to-Income ratio, indicating the borrower's debt compared to their income.  \n",
       "10  The highest level of education attained by the borrower (PhD, Master's, Bachelor's, High School).  \n",
       "11   The type of employment status of the borrower (Full-time, Part-time, Self-employed, Unemployed).  \n",
       "12                                    The marital status of the borrower (Single, Married, Divorced).  \n",
       "13                                                   Whether the borrower has a mortgage (Yes or No).  \n",
       "14                                                   Whether the borrower has dependents (Yes or No).  \n",
       "15                                  The purpose of the loan (Home, Auto, Education, Business, Other).  \n",
       "16                                                      Whether the loan has a co-signer (Yes or No).  \n",
       "17                   The binary target variable indicating whether the loan defaulted (1) or not (0).  "
      ]
     },
     "execution_count": 1,
     "metadata": {},
     "output_type": "execute_result"
    }
   ],
   "source": [
    "import pandas as pd\n",
    "data = pd.read_csv('data_descriptions.csv')\n",
    "data.head()\n",
    "pd.set_option('display.max_colwidth', None)\n",
    "data"
   ]
  },
  {
   "cell_type": "markdown",
   "metadata": {},
   "source": [
    "## How to Submit your Predictions to Coursera\n",
    "Submission Format:\n",
    "\n",
    "In this notebook you should follow the steps below to explore the data, train a model using the data in `train.csv`, and then score your model using the data in `test.csv`. Your final submission should be a dataframe (call it `prediction_df` with two columns and exactly 109,435 rows (plus a header row). The first column should be `LoanID` so that we know which prediction belongs to which observation. The second column should be called `predicted_probability` and should be a numeric column representing the __likelihood that the borrower will default__.\n",
    "\n",
    "Your submission will show an error if you have extra columns (beyond `LoanID` and `predicted_probability`) or extra rows. The order of the rows does not matter.\n",
    "\n",
    "The naming convention of the dataframe and columns are critical for our autograding, so please make sure to use the exact naming conventions of `prediction_df` with column names `LoanID` and `predicted_probability`!\n",
    "\n",
    "To determine your final score, we will compare your `predicted_probability` predictions to the source of truth labels for the observations in `test.csv` and calculate the [ROC AUC](https://scikit-learn.org/stable/modules/generated/sklearn.metrics.roc_auc_score.html). We choose this metric because we not only want to be able to predict which loans will default, but also want a well-calibrated likelihood score that can be used to target interventions and support most accurately."
   ]
  },
  {
   "cell_type": "markdown",
   "metadata": {},
   "source": [
    "## Import Python Modules\n",
    "\n",
    "First, import the primary modules that will be used in this project. Remember as this is an open-ended project please feel free to make use of any of your favorite libraries that you feel may be useful for this challenge. For example some of the following popular packages may be useful:\n",
    "\n",
    "- pandas\n",
    "- numpy\n",
    "- Scipy\n",
    "- Scikit-learn\n",
    "- keras\n",
    "- maplotlib\n",
    "- seaborn\n",
    "- etc, etc"
   ]
  },
  {
   "cell_type": "code",
   "execution_count": 2,
   "metadata": {},
   "outputs": [],
   "source": [
    "# Import required packages\n",
    "\n",
    "# Data packages\n",
    "import pandas as pd\n",
    "import numpy as np\n",
    "\n",
    "# Machine Learning / Classification packages\n",
    "from sklearn.metrics import roc_auc_score\n",
    "from sklearn.model_selection import train_test_split\n",
    "from sklearn.dummy import DummyClassifier\n",
    "\n",
    "# Visualization Packages\n",
    "from matplotlib import pyplot as plt\n",
    "import seaborn as sns\n",
    "%matplotlib inline"
   ]
  },
  {
   "cell_type": "code",
   "execution_count": 3,
   "metadata": {},
   "outputs": [],
   "source": [
    "#Import \n",
    "from sklearn.preprocessing import LabelEncoder , StandardScaler\n",
    "from scipy import stats\n",
    "from sklearn.decomposition import PCA\n",
    "from sklearn.model_selection import train_test_split\n",
    "from sklearn.linear_model import LogisticRegression\n",
    "from sklearn.metrics import roc_auc_score , accuracy_score , roc_curve\n"
   ]
  },
  {
   "cell_type": "markdown",
   "metadata": {},
   "source": [
    "## Load the Data\n",
    "\n",
    "Let's start by loading the dataset `train.csv` into a dataframe `train_df`, and `test.csv` into a dataframe `test_df` and display the shape of the dataframes."
   ]
  },
  {
   "cell_type": "code",
   "execution_count": 4,
   "metadata": {},
   "outputs": [
    {
     "name": "stdout",
     "output_type": "stream",
     "text": [
      "train_df Shape: (255347, 18)\n"
     ]
    },
    {
     "data": {
      "text/html": [
       "<div>\n",
       "<style scoped>\n",
       "    .dataframe tbody tr th:only-of-type {\n",
       "        vertical-align: middle;\n",
       "    }\n",
       "\n",
       "    .dataframe tbody tr th {\n",
       "        vertical-align: top;\n",
       "    }\n",
       "\n",
       "    .dataframe thead th {\n",
       "        text-align: right;\n",
       "    }\n",
       "</style>\n",
       "<table border=\"1\" class=\"dataframe\">\n",
       "  <thead>\n",
       "    <tr style=\"text-align: right;\">\n",
       "      <th></th>\n",
       "      <th>LoanID</th>\n",
       "      <th>Age</th>\n",
       "      <th>Income</th>\n",
       "      <th>LoanAmount</th>\n",
       "      <th>CreditScore</th>\n",
       "      <th>MonthsEmployed</th>\n",
       "      <th>NumCreditLines</th>\n",
       "      <th>InterestRate</th>\n",
       "      <th>LoanTerm</th>\n",
       "      <th>DTIRatio</th>\n",
       "      <th>Education</th>\n",
       "      <th>EmploymentType</th>\n",
       "      <th>MaritalStatus</th>\n",
       "      <th>HasMortgage</th>\n",
       "      <th>HasDependents</th>\n",
       "      <th>LoanPurpose</th>\n",
       "      <th>HasCoSigner</th>\n",
       "      <th>Default</th>\n",
       "    </tr>\n",
       "  </thead>\n",
       "  <tbody>\n",
       "    <tr>\n",
       "      <th>0</th>\n",
       "      <td>I38PQUQS96</td>\n",
       "      <td>56</td>\n",
       "      <td>85994</td>\n",
       "      <td>50587</td>\n",
       "      <td>520</td>\n",
       "      <td>80</td>\n",
       "      <td>4</td>\n",
       "      <td>15.23</td>\n",
       "      <td>36</td>\n",
       "      <td>0.44</td>\n",
       "      <td>Bachelor's</td>\n",
       "      <td>Full-time</td>\n",
       "      <td>Divorced</td>\n",
       "      <td>Yes</td>\n",
       "      <td>Yes</td>\n",
       "      <td>Other</td>\n",
       "      <td>Yes</td>\n",
       "      <td>0</td>\n",
       "    </tr>\n",
       "    <tr>\n",
       "      <th>1</th>\n",
       "      <td>HPSK72WA7R</td>\n",
       "      <td>69</td>\n",
       "      <td>50432</td>\n",
       "      <td>124440</td>\n",
       "      <td>458</td>\n",
       "      <td>15</td>\n",
       "      <td>1</td>\n",
       "      <td>4.81</td>\n",
       "      <td>60</td>\n",
       "      <td>0.68</td>\n",
       "      <td>Master's</td>\n",
       "      <td>Full-time</td>\n",
       "      <td>Married</td>\n",
       "      <td>No</td>\n",
       "      <td>No</td>\n",
       "      <td>Other</td>\n",
       "      <td>Yes</td>\n",
       "      <td>0</td>\n",
       "    </tr>\n",
       "    <tr>\n",
       "      <th>2</th>\n",
       "      <td>C1OZ6DPJ8Y</td>\n",
       "      <td>46</td>\n",
       "      <td>84208</td>\n",
       "      <td>129188</td>\n",
       "      <td>451</td>\n",
       "      <td>26</td>\n",
       "      <td>3</td>\n",
       "      <td>21.17</td>\n",
       "      <td>24</td>\n",
       "      <td>0.31</td>\n",
       "      <td>Master's</td>\n",
       "      <td>Unemployed</td>\n",
       "      <td>Divorced</td>\n",
       "      <td>Yes</td>\n",
       "      <td>Yes</td>\n",
       "      <td>Auto</td>\n",
       "      <td>No</td>\n",
       "      <td>1</td>\n",
       "    </tr>\n",
       "    <tr>\n",
       "      <th>3</th>\n",
       "      <td>V2KKSFM3UN</td>\n",
       "      <td>32</td>\n",
       "      <td>31713</td>\n",
       "      <td>44799</td>\n",
       "      <td>743</td>\n",
       "      <td>0</td>\n",
       "      <td>3</td>\n",
       "      <td>7.07</td>\n",
       "      <td>24</td>\n",
       "      <td>0.23</td>\n",
       "      <td>High School</td>\n",
       "      <td>Full-time</td>\n",
       "      <td>Married</td>\n",
       "      <td>No</td>\n",
       "      <td>No</td>\n",
       "      <td>Business</td>\n",
       "      <td>No</td>\n",
       "      <td>0</td>\n",
       "    </tr>\n",
       "    <tr>\n",
       "      <th>4</th>\n",
       "      <td>EY08JDHTZP</td>\n",
       "      <td>60</td>\n",
       "      <td>20437</td>\n",
       "      <td>9139</td>\n",
       "      <td>633</td>\n",
       "      <td>8</td>\n",
       "      <td>4</td>\n",
       "      <td>6.51</td>\n",
       "      <td>48</td>\n",
       "      <td>0.73</td>\n",
       "      <td>Bachelor's</td>\n",
       "      <td>Unemployed</td>\n",
       "      <td>Divorced</td>\n",
       "      <td>No</td>\n",
       "      <td>Yes</td>\n",
       "      <td>Auto</td>\n",
       "      <td>No</td>\n",
       "      <td>0</td>\n",
       "    </tr>\n",
       "  </tbody>\n",
       "</table>\n",
       "</div>"
      ],
      "text/plain": [
       "       LoanID  Age  Income  LoanAmount  CreditScore  MonthsEmployed  \\\n",
       "0  I38PQUQS96   56   85994       50587          520              80   \n",
       "1  HPSK72WA7R   69   50432      124440          458              15   \n",
       "2  C1OZ6DPJ8Y   46   84208      129188          451              26   \n",
       "3  V2KKSFM3UN   32   31713       44799          743               0   \n",
       "4  EY08JDHTZP   60   20437        9139          633               8   \n",
       "\n",
       "   NumCreditLines  InterestRate  LoanTerm  DTIRatio    Education  \\\n",
       "0               4         15.23        36      0.44   Bachelor's   \n",
       "1               1          4.81        60      0.68     Master's   \n",
       "2               3         21.17        24      0.31     Master's   \n",
       "3               3          7.07        24      0.23  High School   \n",
       "4               4          6.51        48      0.73   Bachelor's   \n",
       "\n",
       "  EmploymentType MaritalStatus HasMortgage HasDependents LoanPurpose  \\\n",
       "0      Full-time      Divorced         Yes           Yes       Other   \n",
       "1      Full-time       Married          No            No       Other   \n",
       "2     Unemployed      Divorced         Yes           Yes        Auto   \n",
       "3      Full-time       Married          No            No    Business   \n",
       "4     Unemployed      Divorced          No           Yes        Auto   \n",
       "\n",
       "  HasCoSigner  Default  \n",
       "0         Yes        0  \n",
       "1         Yes        0  \n",
       "2          No        1  \n",
       "3          No        0  \n",
       "4          No        0  "
      ]
     },
     "execution_count": 4,
     "metadata": {},
     "output_type": "execute_result"
    }
   ],
   "source": [
    "train_df = pd.read_csv(\"train.csv\")\n",
    "print('train_df Shape:', train_df.shape)\n",
    "train_df.head()"
   ]
  },
  {
   "cell_type": "code",
   "execution_count": 5,
   "metadata": {},
   "outputs": [
    {
     "name": "stdout",
     "output_type": "stream",
     "text": [
      "test_df Shape: (109435, 17)\n"
     ]
    },
    {
     "data": {
      "text/html": [
       "<div>\n",
       "<style scoped>\n",
       "    .dataframe tbody tr th:only-of-type {\n",
       "        vertical-align: middle;\n",
       "    }\n",
       "\n",
       "    .dataframe tbody tr th {\n",
       "        vertical-align: top;\n",
       "    }\n",
       "\n",
       "    .dataframe thead th {\n",
       "        text-align: right;\n",
       "    }\n",
       "</style>\n",
       "<table border=\"1\" class=\"dataframe\">\n",
       "  <thead>\n",
       "    <tr style=\"text-align: right;\">\n",
       "      <th></th>\n",
       "      <th>LoanID</th>\n",
       "      <th>Age</th>\n",
       "      <th>Income</th>\n",
       "      <th>LoanAmount</th>\n",
       "      <th>CreditScore</th>\n",
       "      <th>MonthsEmployed</th>\n",
       "      <th>NumCreditLines</th>\n",
       "      <th>InterestRate</th>\n",
       "      <th>LoanTerm</th>\n",
       "      <th>DTIRatio</th>\n",
       "      <th>Education</th>\n",
       "      <th>EmploymentType</th>\n",
       "      <th>MaritalStatus</th>\n",
       "      <th>HasMortgage</th>\n",
       "      <th>HasDependents</th>\n",
       "      <th>LoanPurpose</th>\n",
       "      <th>HasCoSigner</th>\n",
       "    </tr>\n",
       "  </thead>\n",
       "  <tbody>\n",
       "    <tr>\n",
       "      <th>0</th>\n",
       "      <td>7RYZGMKJIR</td>\n",
       "      <td>32</td>\n",
       "      <td>131645</td>\n",
       "      <td>43797</td>\n",
       "      <td>802</td>\n",
       "      <td>23</td>\n",
       "      <td>2</td>\n",
       "      <td>6.10</td>\n",
       "      <td>24</td>\n",
       "      <td>0.13</td>\n",
       "      <td>High School</td>\n",
       "      <td>Full-time</td>\n",
       "      <td>Divorced</td>\n",
       "      <td>Yes</td>\n",
       "      <td>No</td>\n",
       "      <td>Other</td>\n",
       "      <td>No</td>\n",
       "    </tr>\n",
       "    <tr>\n",
       "      <th>1</th>\n",
       "      <td>JDL5RH07AM</td>\n",
       "      <td>61</td>\n",
       "      <td>134312</td>\n",
       "      <td>18402</td>\n",
       "      <td>369</td>\n",
       "      <td>87</td>\n",
       "      <td>2</td>\n",
       "      <td>12.99</td>\n",
       "      <td>60</td>\n",
       "      <td>0.59</td>\n",
       "      <td>High School</td>\n",
       "      <td>Self-employed</td>\n",
       "      <td>Single</td>\n",
       "      <td>No</td>\n",
       "      <td>No</td>\n",
       "      <td>Business</td>\n",
       "      <td>Yes</td>\n",
       "    </tr>\n",
       "    <tr>\n",
       "      <th>2</th>\n",
       "      <td>STAL716Y79</td>\n",
       "      <td>55</td>\n",
       "      <td>115809</td>\n",
       "      <td>151774</td>\n",
       "      <td>563</td>\n",
       "      <td>3</td>\n",
       "      <td>3</td>\n",
       "      <td>5.51</td>\n",
       "      <td>48</td>\n",
       "      <td>0.82</td>\n",
       "      <td>Bachelor's</td>\n",
       "      <td>Full-time</td>\n",
       "      <td>Single</td>\n",
       "      <td>Yes</td>\n",
       "      <td>Yes</td>\n",
       "      <td>Other</td>\n",
       "      <td>Yes</td>\n",
       "    </tr>\n",
       "    <tr>\n",
       "      <th>3</th>\n",
       "      <td>SO0KKJ3IQB</td>\n",
       "      <td>58</td>\n",
       "      <td>94970</td>\n",
       "      <td>55789</td>\n",
       "      <td>337</td>\n",
       "      <td>24</td>\n",
       "      <td>1</td>\n",
       "      <td>23.93</td>\n",
       "      <td>36</td>\n",
       "      <td>0.77</td>\n",
       "      <td>Bachelor's</td>\n",
       "      <td>Unemployed</td>\n",
       "      <td>Divorced</td>\n",
       "      <td>No</td>\n",
       "      <td>No</td>\n",
       "      <td>Business</td>\n",
       "      <td>No</td>\n",
       "    </tr>\n",
       "    <tr>\n",
       "      <th>4</th>\n",
       "      <td>T99CWTYDCP</td>\n",
       "      <td>63</td>\n",
       "      <td>71727</td>\n",
       "      <td>189798</td>\n",
       "      <td>451</td>\n",
       "      <td>52</td>\n",
       "      <td>3</td>\n",
       "      <td>22.05</td>\n",
       "      <td>48</td>\n",
       "      <td>0.44</td>\n",
       "      <td>PhD</td>\n",
       "      <td>Unemployed</td>\n",
       "      <td>Single</td>\n",
       "      <td>Yes</td>\n",
       "      <td>No</td>\n",
       "      <td>Auto</td>\n",
       "      <td>No</td>\n",
       "    </tr>\n",
       "  </tbody>\n",
       "</table>\n",
       "</div>"
      ],
      "text/plain": [
       "       LoanID  Age  Income  LoanAmount  CreditScore  MonthsEmployed  \\\n",
       "0  7RYZGMKJIR   32  131645       43797          802              23   \n",
       "1  JDL5RH07AM   61  134312       18402          369              87   \n",
       "2  STAL716Y79   55  115809      151774          563               3   \n",
       "3  SO0KKJ3IQB   58   94970       55789          337              24   \n",
       "4  T99CWTYDCP   63   71727      189798          451              52   \n",
       "\n",
       "   NumCreditLines  InterestRate  LoanTerm  DTIRatio    Education  \\\n",
       "0               2          6.10        24      0.13  High School   \n",
       "1               2         12.99        60      0.59  High School   \n",
       "2               3          5.51        48      0.82   Bachelor's   \n",
       "3               1         23.93        36      0.77   Bachelor's   \n",
       "4               3         22.05        48      0.44          PhD   \n",
       "\n",
       "  EmploymentType MaritalStatus HasMortgage HasDependents LoanPurpose  \\\n",
       "0      Full-time      Divorced         Yes            No       Other   \n",
       "1  Self-employed        Single          No            No    Business   \n",
       "2      Full-time        Single         Yes           Yes       Other   \n",
       "3     Unemployed      Divorced          No            No    Business   \n",
       "4     Unemployed        Single         Yes            No        Auto   \n",
       "\n",
       "  HasCoSigner  \n",
       "0          No  \n",
       "1         Yes  \n",
       "2         Yes  \n",
       "3          No  \n",
       "4          No  "
      ]
     },
     "execution_count": 5,
     "metadata": {},
     "output_type": "execute_result"
    }
   ],
   "source": [
    "test_df = pd.read_csv(\"test.csv\")\n",
    "print('test_df Shape:', test_df.shape)\n",
    "test_df.head()"
   ]
  },
  {
   "cell_type": "markdown",
   "metadata": {},
   "source": [
    "## Explore, Clean, Validate, and Visualize the Data (optional)\n",
    "\n",
    "Feel free to explore, clean, validate, and visualize the data however you see fit for this competition to help determine or optimize your predictive model. Please note - the final autograding will only be on the accuracy of the `prediction_df` predictions."
   ]
  },
  {
   "cell_type": "code",
   "execution_count": 6,
   "metadata": {},
   "outputs": [
    {
     "name": "stdout",
     "output_type": "stream",
     "text": [
      "<class 'pandas.core.frame.DataFrame'>\n",
      "RangeIndex: 255347 entries, 0 to 255346\n",
      "Data columns (total 18 columns):\n",
      " #   Column          Non-Null Count   Dtype  \n",
      "---  ------          --------------   -----  \n",
      " 0   LoanID          255347 non-null  object \n",
      " 1   Age             255347 non-null  int64  \n",
      " 2   Income          255347 non-null  int64  \n",
      " 3   LoanAmount      255347 non-null  int64  \n",
      " 4   CreditScore     255347 non-null  int64  \n",
      " 5   MonthsEmployed  255347 non-null  int64  \n",
      " 6   NumCreditLines  255347 non-null  int64  \n",
      " 7   InterestRate    255347 non-null  float64\n",
      " 8   LoanTerm        255347 non-null  int64  \n",
      " 9   DTIRatio        255347 non-null  float64\n",
      " 10  Education       255347 non-null  object \n",
      " 11  EmploymentType  255347 non-null  object \n",
      " 12  MaritalStatus   255347 non-null  object \n",
      " 13  HasMortgage     255347 non-null  object \n",
      " 14  HasDependents   255347 non-null  object \n",
      " 15  LoanPurpose     255347 non-null  object \n",
      " 16  HasCoSigner     255347 non-null  object \n",
      " 17  Default         255347 non-null  int64  \n",
      "dtypes: float64(2), int64(8), object(8)\n",
      "memory usage: 35.1+ MB\n",
      "train_df_duplicated_value 0\n",
      "<class 'pandas.core.frame.DataFrame'>\n",
      "RangeIndex: 109435 entries, 0 to 109434\n",
      "Data columns (total 17 columns):\n",
      " #   Column          Non-Null Count   Dtype  \n",
      "---  ------          --------------   -----  \n",
      " 0   LoanID          109435 non-null  object \n",
      " 1   Age             109435 non-null  int64  \n",
      " 2   Income          109435 non-null  int64  \n",
      " 3   LoanAmount      109435 non-null  int64  \n",
      " 4   CreditScore     109435 non-null  int64  \n",
      " 5   MonthsEmployed  109435 non-null  int64  \n",
      " 6   NumCreditLines  109435 non-null  int64  \n",
      " 7   InterestRate    109435 non-null  float64\n",
      " 8   LoanTerm        109435 non-null  int64  \n",
      " 9   DTIRatio        109435 non-null  float64\n",
      " 10  Education       109435 non-null  object \n",
      " 11  EmploymentType  109435 non-null  object \n",
      " 12  MaritalStatus   109435 non-null  object \n",
      " 13  HasMortgage     109435 non-null  object \n",
      " 14  HasDependents   109435 non-null  object \n",
      " 15  LoanPurpose     109435 non-null  object \n",
      " 16  HasCoSigner     109435 non-null  object \n",
      "dtypes: float64(2), int64(7), object(8)\n",
      "memory usage: 14.2+ MB\n",
      "test_df_Duplicated_value 0\n"
     ]
    }
   ],
   "source": [
    "# Checking the missing values in train and test data\n",
    "#Train data\n",
    "train_df.info()\n",
    "print(\"train_df_duplicated_value\",train_df.duplicated().sum())\n",
    "\n",
    "#In train data there is no missing values and duplicated values \n",
    "\n",
    "#Test data\n",
    "test_df.info()\n",
    "print(\"test_df_Duplicated_value\" , test_df.duplicated().sum())\n",
    "\n",
    "#In test data there is no missing values and duplicated values\n",
    "\n",
    "#There are 255347 entries in train dataset and There are 109435 entries in test data set.\n",
    "\n"
   ]
  },
  {
   "cell_type": "code",
   "execution_count": 7,
   "metadata": {},
   "outputs": [
    {
     "name": "stdout",
     "output_type": "stream",
     "text": [
      "            LoanID  Age  Income  LoanAmount  CreditScore  MonthsEmployed  \\\n",
      "0       I38PQUQS96   56   85994       50587          520              80   \n",
      "1       HPSK72WA7R   69   50432      124440          458              15   \n",
      "2       C1OZ6DPJ8Y   46   84208      129188          451              26   \n",
      "3       V2KKSFM3UN   32   31713       44799          743               0   \n",
      "4       EY08JDHTZP   60   20437        9139          633               8   \n",
      "...            ...  ...     ...         ...          ...             ...   \n",
      "255342  8C6S86ESGC   19   37979      210682          541             109   \n",
      "255343  98R4KDHNND   32   51953      189899          511              14   \n",
      "255344  XQK1UUUNGP   56   84820      208294          597              70   \n",
      "255345  JAO28CPL4H   42   85109       60575          809              40   \n",
      "255346  ZTH91CGL0B   62   22418       18481          636             113   \n",
      "\n",
      "        NumCreditLines  InterestRate  LoanTerm  DTIRatio  Education  \\\n",
      "0                    4         15.23        36      0.44          0   \n",
      "1                    1          4.81        60      0.68          2   \n",
      "2                    3         21.17        24      0.31          2   \n",
      "3                    3          7.07        24      0.23          1   \n",
      "4                    4          6.51        48      0.73          0   \n",
      "...                ...           ...       ...       ...        ...   \n",
      "255342               4         14.11        12      0.85          0   \n",
      "255343               2         11.55        24      0.21          1   \n",
      "255344               3          5.29        60      0.50          1   \n",
      "255345               1         20.90        48      0.44          1   \n",
      "255346               2          6.73        12      0.48          0   \n",
      "\n",
      "        EmploymentType  MaritalStatus  HasMortgage  HasDependents  \\\n",
      "0                    0              0            1              1   \n",
      "1                    0              1            0              0   \n",
      "2                    3              0            1              1   \n",
      "3                    0              1            0              0   \n",
      "4                    3              0            0              1   \n",
      "...                ...            ...          ...            ...   \n",
      "255342               0              1            0              0   \n",
      "255343               1              0            0              0   \n",
      "255344               2              1            1              1   \n",
      "255345               1              2            1              1   \n",
      "255346               3              0            1              0   \n",
      "\n",
      "        LoanPurpose  HasCoSigner  Default  \n",
      "0                 4            1        0  \n",
      "1                 4            1        0  \n",
      "2                 0            0        1  \n",
      "3                 1            0        0  \n",
      "4                 0            0        0  \n",
      "...             ...          ...      ...  \n",
      "255342            4            0        0  \n",
      "255343            3            0        1  \n",
      "255344            0            1        0  \n",
      "255345            4            0        0  \n",
      "255346            2            1        0  \n",
      "\n",
      "[255347 rows x 18 columns]\n",
      "            LoanID  Age  Income  LoanAmount  CreditScore  MonthsEmployed  \\\n",
      "0       7RYZGMKJIR   32  131645       43797          802              23   \n",
      "1       JDL5RH07AM   61  134312       18402          369              87   \n",
      "2       STAL716Y79   55  115809      151774          563               3   \n",
      "3       SO0KKJ3IQB   58   94970       55789          337              24   \n",
      "4       T99CWTYDCP   63   71727      189798          451              52   \n",
      "...            ...  ...     ...         ...          ...             ...   \n",
      "109430  V12FM6UKMS   67   76970      108110          404              67   \n",
      "109431  GLRB9P0CQO   44  108272      238508          335              28   \n",
      "109432  RWCJ3SL2J6   54   73526       18513          576              75   \n",
      "109433  2Z9IZS4OMY   60   75296       38414          369              71   \n",
      "109434  R9TD0K3D0H   18   19144      222659          531               1   \n",
      "\n",
      "        NumCreditLines  InterestRate  LoanTerm  DTIRatio  Education  \\\n",
      "0                    2          6.10        24      0.13          1   \n",
      "1                    2         12.99        60      0.59          1   \n",
      "2                    3          5.51        48      0.82          0   \n",
      "3                    1         23.93        36      0.77          0   \n",
      "4                    3         22.05        48      0.44          3   \n",
      "...                ...           ...       ...       ...        ...   \n",
      "109430               3         10.51        36      0.18          3   \n",
      "109431               1          9.65        24      0.32          3   \n",
      "109432               2         17.22        36      0.62          2   \n",
      "109433               4         17.69        36      0.66          3   \n",
      "109434               4         15.28        48      0.10          0   \n",
      "\n",
      "        EmploymentType  MaritalStatus  HasMortgage  HasDependents  \\\n",
      "0                    0              0            1              0   \n",
      "1                    2              2            0              0   \n",
      "2                    0              2            1              1   \n",
      "3                    3              0            0              0   \n",
      "4                    3              2            1              0   \n",
      "...                ...            ...          ...            ...   \n",
      "109430               2              1            1              1   \n",
      "109431               0              0            1              1   \n",
      "109432               1              0            0              1   \n",
      "109433               1              1            0              0   \n",
      "109434               3              1            0              0   \n",
      "\n",
      "        LoanPurpose  HasCoSigner  \n",
      "0                 4            0  \n",
      "1                 1            1  \n",
      "2                 4            1  \n",
      "3                 1            0  \n",
      "4                 0            0  \n",
      "...             ...          ...  \n",
      "109430            0            0  \n",
      "109431            2            0  \n",
      "109432            2            0  \n",
      "109433            1            1  \n",
      "109434            1            1  \n",
      "\n",
      "[109435 rows x 17 columns]\n"
     ]
    }
   ],
   "source": [
    "#CONVERT CATEGORICAL VARIABLE INTO NUMERICAL VALUE\n",
    "\n",
    "columns = train_df.columns\n",
    "\n",
    "labelencoder = {col : LabelEncoder() for col in columns}\n",
    "\n",
    "for col in columns:\n",
    "    if train_df[col].dtype == 'object' and col != 'LoanID': \n",
    "        train_df[col] = labelencoder[col].fit_transform(train_df[col])\n",
    "        \n",
    "\n",
    "print(train_df)\n",
    "\n",
    "\n",
    "columns_1 = test_df.columns\n",
    "\n",
    "for col in columns_1:\n",
    "    if test_df[col].dtype == 'object' and col != 'LoanID': \n",
    "        test_df[col] = labelencoder[col].fit_transform(test_df[col])\n",
    "\n",
    "        \n",
    "print(test_df)"
   ]
  },
  {
   "cell_type": "code",
   "execution_count": 8,
   "metadata": {},
   "outputs": [
    {
     "name": "stdout",
     "output_type": "stream",
     "text": [
      "0\n",
      "0\n"
     ]
    }
   ],
   "source": [
    "#Find the duplicate value if duplicate value exist drop that column\n",
    "\n",
    "print(train_df.duplicated().sum())\n",
    "#there is no duplicate values in train data\n",
    "\n",
    "print(test_df.duplicated().sum())\n",
    "#there is no dupicated values in test data also \n"
   ]
  },
  {
   "cell_type": "code",
   "execution_count": 9,
   "metadata": {},
   "outputs": [
    {
     "data": {
      "image/png": "[encoded data removed]",
      "text/plain": [
       "<Figure size 864x720 with 2 Axes>"
      ]
     },
     "metadata": {
      "needs_background": "light"
     },
     "output_type": "display_data"
    }
   ],
   "source": [
    "#Correlation anlaysis for train data \n",
    "\n",
    "correlation_analysis = train_df.corr()\n",
    "plt.figure(figsize = (12,10))\n",
    "sns.heatmap(correlation_analysis , annot=True , cmap ='coolwarm' , fmt='.2f')\n",
    "plt.title(\"Heat map of correlation matrix\")\n",
    "plt.show()"
   ]
  },
  {
   "cell_type": "code",
   "execution_count": 10,
   "metadata": {},
   "outputs": [
    {
     "name": "stdout",
     "output_type": "stream",
     "text": [
      "Outliers detected using Z-Score method:\n",
      " Empty DataFrame\n",
      "Columns: [LoanID, Age, Income, LoanAmount, CreditScore, MonthsEmployed, NumCreditLines, InterestRate, LoanTerm, DTIRatio, Education, EmploymentType, MaritalStatus, HasMortgage, HasDependents, LoanPurpose, HasCoSigner, Default]\n",
      "Index: []\n",
      "Outliers in categorical variables:\n",
      "             LoanID  Age  Income  LoanAmount  CreditScore  MonthsEmployed  \\\n",
      "0       I38PQUQS96   56   85994       50587          520              80   \n",
      "1       HPSK72WA7R   69   50432      124440          458              15   \n",
      "2       C1OZ6DPJ8Y   46   84208      129188          451              26   \n",
      "3       V2KKSFM3UN   32   31713       44799          743               0   \n",
      "4       EY08JDHTZP   60   20437        9139          633               8   \n",
      "...            ...  ...     ...         ...          ...             ...   \n",
      "255342  8C6S86ESGC   19   37979      210682          541             109   \n",
      "255343  98R4KDHNND   32   51953      189899          511              14   \n",
      "255344  XQK1UUUNGP   56   84820      208294          597              70   \n",
      "255345  JAO28CPL4H   42   85109       60575          809              40   \n",
      "255346  ZTH91CGL0B   62   22418       18481          636             113   \n",
      "\n",
      "        NumCreditLines  InterestRate  LoanTerm  DTIRatio  Education  \\\n",
      "0                    4         15.23        36      0.44          0   \n",
      "1                    1          4.81        60      0.68          2   \n",
      "2                    3         21.17        24      0.31          2   \n",
      "3                    3          7.07        24      0.23          1   \n",
      "4                    4          6.51        48      0.73          0   \n",
      "...                ...           ...       ...       ...        ...   \n",
      "255342               4         14.11        12      0.85          0   \n",
      "255343               2         11.55        24      0.21          1   \n",
      "255344               3          5.29        60      0.50          1   \n",
      "255345               1         20.90        48      0.44          1   \n",
      "255346               2          6.73        12      0.48          0   \n",
      "\n",
      "        EmploymentType  MaritalStatus  HasMortgage  HasDependents  \\\n",
      "0                    0              0            1              1   \n",
      "1                    0              1            0              0   \n",
      "2                    3              0            1              1   \n",
      "3                    0              1            0              0   \n",
      "4                    3              0            0              1   \n",
      "...                ...            ...          ...            ...   \n",
      "255342               0              1            0              0   \n",
      "255343               1              0            0              0   \n",
      "255344               2              1            1              1   \n",
      "255345               1              2            1              1   \n",
      "255346               3              0            1              0   \n",
      "\n",
      "        LoanPurpose  HasCoSigner  Default  \n",
      "0                 4            1        0  \n",
      "1                 4            1        0  \n",
      "2                 0            0        1  \n",
      "3                 1            0        0  \n",
      "4                 0            0        0  \n",
      "...             ...          ...      ...  \n",
      "255342            4            0        0  \n",
      "255343            3            0        1  \n",
      "255344            0            1        0  \n",
      "255345            4            0        0  \n",
      "255346            2            1        0  \n",
      "\n",
      "[255347 rows x 18 columns]\n"
     ]
    }
   ],
   "source": [
    "#Detect the outlier\n",
    "\n",
    "numeric_cols = train_df.select_dtypes(include = ['int64','float64']).columns\n",
    "\n",
    "def detect_outliers_zscore(df, columns, threshold=3):\n",
    "    outliers = pd.DataFrame()\n",
    "    for col in columns:\n",
    "        z_scores = stats.zscore(df[col])\n",
    "        outliers_in_col = df[(z_scores > threshold) | (z_scores < -threshold)]\n",
    "        outliers = outliers.append(outliers_in_col)\n",
    "    return outliers.drop_duplicates()\n",
    "\n",
    "# Detect outliers in numeric columns\n",
    "outliers = detect_outliers_zscore(train_df, numeric_cols)\n",
    "print(\"Outliers detected using Z-Score method:\\n\", outliers)\n",
    "\n",
    "\n",
    "categorical_cols = train_df.select_dtypes(include=['object']).columns\n",
    "\n",
    "def detect_outliers_categorical(df, columns, threshold=1):\n",
    "    outliers = pd.DataFrame()\n",
    "    for col in columns:\n",
    "        freq = df[col].value_counts()\n",
    "        outliers_in_col = df[df[col].isin(freq[freq <= threshold].index)]\n",
    "        outliers = outliers.append(outliers_in_col)\n",
    "    return outliers.drop_duplicates()\n",
    "\n",
    "# Detect outliers in categorical columns\n",
    "outliers_cat = detect_outliers_categorical(train_df, categorical_cols)\n",
    "print(\"Outliers in categorical variables:\\n\", outliers_cat)\n",
    "\n",
    "#There is no outliars in the dataset\n"
   ]
  },
  {
   "cell_type": "code",
   "execution_count": 11,
   "metadata": {
    "scrolled": true
   },
   "outputs": [
    {
     "data": {
      "image/png": "[encoded data removed]",
      "text/plain": [
       "<Figure size 1440x1080 with 20 Axes>"
      ]
     },
     "metadata": {
      "needs_background": "light"
     },
     "output_type": "display_data"
    }
   ],
   "source": [
    "#Data visualization \n",
    "train_df.hist(bins=30 , figsize=(20,15))\n",
    "plt.title(\"Distribution of numerical data\")\n",
    "plt.show()\n"
   ]
  },
  {
   "cell_type": "code",
   "execution_count": 12,
   "metadata": {},
   "outputs": [],
   "source": [
    "#PCA \n",
    "\n",
    "#segregation of x And y\n",
    "\n",
    "x = train_df.drop(['LoanID' , 'Default'] , axis=1)\n",
    "y = train_df['Default']\n",
    "\n",
    "scaled = StandardScaler()\n",
    "X_scaled = scaled.fit_transform(x)\n",
    "\n",
    "pca = PCA()\n",
    "x_pca = pca.fit_transform(X_scaled)\n"
   ]
  },
  {
   "cell_type": "code",
   "execution_count": 13,
   "metadata": {},
   "outputs": [
    {
     "data": {
      "text/plain": [
       "[<matplotlib.lines.Line2D at 0x73cd3d581890>]"
      ]
     },
     "execution_count": 13,
     "metadata": {},
     "output_type": "execute_result"
    },
    {
     "data": {
      "image/png": "[encoded data removed]",
      "text/plain": [
       "<Figure size 432x288 with 1 Axes>"
      ]
     },
     "metadata": {
      "needs_background": "light"
     },
     "output_type": "display_data"
    }
   ],
   "source": [
    "#graphical represenation of explainatory_variable\n",
    "\n",
    "explained_variance = pca.explained_variance_ratio_\n",
    "cummulative_explainatry_variables = np.cumsum(explained_variance )\n",
    "plt.title(\"Cummulative_explained_ratio\")\n",
    "plt.plot(range(1 , len(explained_variance)+1)  ,cummulative_explainatry_variables ,marker = 'o' , linestyle ='--' )\n"
   ]
  },
  {
   "cell_type": "code",
   "execution_count": 14,
   "metadata": {},
   "outputs": [
    {
     "name": "stdout",
     "output_type": "stream",
     "text": [
      "16\n"
     ]
    },
    {
     "data": {
      "text/plain": [
       "(255347, 18)"
      ]
     },
     "execution_count": 14,
     "metadata": {},
     "output_type": "execute_result"
    }
   ],
   "source": [
    "n_components = np.argmax(cummulative_explainatry_variables >= 0.95)+1\n",
    "print(n_components)\n",
    "\n",
    "pca = PCA(n_components == n_components)\n",
    "X_pca = PCA(X_scaled)\n",
    "\n",
    "\n",
    "pca_df = pd.DataFrame(data = x_pca , columns = [f'PC{i}' for i in range(1 , n_components +1)])\n",
    "pca_df = pd.concat([train_df[['LoanID' ,'Default']] , pca_df] , axis =1)\n",
    "\n",
    "pca_df.shape\n"
   ]
  },
  {
   "cell_type": "code",
   "execution_count": 15,
   "metadata": {},
   "outputs": [
    {
     "data": {
      "text/plain": [
       "((204277, 16), (51070, 16), (204277,), (51070,))"
      ]
     },
     "execution_count": 15,
     "metadata": {},
     "output_type": "execute_result"
    }
   ],
   "source": [
    "x_train = pca_df.drop([\"LoanID\" , \"Default\"] , axis=1)\n",
    "y_train = pca_df[\"Default\"]\n",
    "\n",
    "x_train , x_test , y_train , y_test = train_test_split(x_train , y_train , test_size = 0.2 ,random_state=42)\n",
    "x_train.shape , x_test.shape , y_train.shape , y_test.shape"
   ]
  },
  {
   "cell_type": "code",
   "execution_count": 16,
   "metadata": {},
   "outputs": [
    {
     "name": "stdout",
     "output_type": "stream",
     "text": [
      "[0 0 0 ... 0 0 0]\n",
      "0.8858625416095555\n",
      "(51070,) (51070,)\n",
      "[0.03342577 0.03598734 0.08032433 ... 0.08913307 0.07895737 0.03507803]\n"
     ]
    }
   ],
   "source": [
    "model = LogisticRegression()\n",
    "model.fit(x_train , y_train)\n",
    "\n",
    "y_pred = model.predict(x_test)\n",
    "print(y_pred)\n",
    "\n",
    "Accuracy = accuracy_score(y_test , y_pred)\n",
    "print(Accuracy)\n",
    "\n",
    "y_pred_prob = model.predict_proba(x_test)[:,1]\n",
    "print(y_pred.shape , y_pred_prob.shape)\n",
    "print(y_pred_prob )"
   ]
  },
  {
   "cell_type": "code",
   "execution_count": 17,
   "metadata": {},
   "outputs": [
    {
     "name": "stdout",
     "output_type": "stream",
     "text": [
      "0.7497844902308792\n"
     ]
    },
    {
     "data": {
      "image/png": "[encoded data removed]",
      "text/plain": [
       "<Figure size 432x288 with 1 Axes>"
      ]
     },
     "metadata": {
      "needs_background": "light"
     },
     "output_type": "display_data"
    }
   ],
   "source": [
    "# Calculate ROC curve and AUC\n",
    "fpr, tpr, thresholds = roc_curve(y_test, y_pred_prob)\n",
    "roc_auc = roc_auc_score(y_test, y_pred_prob)\n",
    "print(roc_auc)\n",
    "\n",
    "# Plotting the ROC curve\n",
    "plt.figure()\n",
    "plt.plot(fpr, tpr, color='blue', label=f'ROC curve (area = {roc_auc:.2f})')\n",
    "plt.plot([0, 1], [0, 1], color='red', linestyle='--')\n",
    "plt.xlim([0.0, 1.0])\n",
    "plt.ylim([0.0, 1.05])\n",
    "plt.xlabel('False Positive Rate')\n",
    "plt.ylabel('True Positive Rate')\n",
    "plt.title('Receiver Operating Characteristic (ROC)')\n",
    "plt.legend(loc='lower right')\n",
    "plt.show()"
   ]
  },
  {
   "cell_type": "code",
   "execution_count": null,
   "metadata": {},
   "outputs": [],
   "source": [
    "from sklearn.preprocessing import StandardScaler\n",
    "from sklearn.decomposition import PCA\n",
    "import pandas as pd\n",
    "\n",
    "# Assuming train_df and model are defined\n",
    "# Ensure 'LoanID' and 'Default' are dropped from both train and test datasets\n",
    "# Also ensure 'LoanID' exists in both datasets\n",
    "\n",
    "# Step 1: Fit scaler and PCA on the training data\n",
    "scaler = StandardScaler()\n",
    "x_train_features = train_df.drop(['LoanID', 'Default'], axis=1)\n",
    "x_train_scaled = scaler.fit_transform(x_train_features)\n",
    "\n",
    "# Determine the number of components used during training (example: 16)\n",
    "n_components = 16\n",
    "pca = PCA(n_components=n_components)\n",
    "x_train_pca = pca.fit_transform(x_train_scaled)\n",
    "\n",
    "# Ensure that the test data is processed similarly\n",
    "test_df.dropna(inplace=True)\n",
    "test_df_encoded = pd.get_dummies(test_df, columns=categorical_cols, drop_first=True)\n",
    "X_test = test_df_encoded.drop(['LoanID'], axis=1, errors='ignore')  # Ignore errors if 'LoanID' does not exist\n",
    "X_test_scaled = scaler.transform(X_test)\n",
    "X_test_pca = pca.transform(X_test_scaled)\n",
    "\n",
    "# Step 2: Make predictions\n",
    "# Ensure that model is defined and fitted\n",
    "if 'model' in globals():\n",
    "    y_test_pred_proba = model.predict_proba(X_test_pca)[:, 1]\n",
    "else:\n",
    "    raise ValueError(\"Model is not defined\")\n",
    "\n",
    "# Step 3: Create the prediction DataFrame\n",
    "# Check if 'LoanID' exists in test_df\n",
    "if 'LoanID' in test_df.columns:\n",
    "    prediction_df = pd.DataFrame({'LoanID': test_df['LoanID'], 'predicted_probability': y_test_pred_proba})\n",
    "else:\n",
    "    raise ValueError(\"'LoanID' column not found in test_df\")\n",
    "\n",
    "# Ensure that prediction_df has the required format and size (109,435 rows)\n",
    "print(\"Shape of prediction_df:\", prediction_df.shape)\n",
    "print(\"Name of the columns:\", prediction_df.columns)\n",
    "print(prediction_df.head())\n"
   ]
  },
  {
   "cell_type": "markdown",
   "metadata": {},
   "source": [
    "## Make predictions (required)\n",
    "\n",
    "Remember you should create a dataframe named `prediction_df` with exactly 109,435 entries plus a header row attempting to predict the likelihood of borrowers to default on their loans in `test_df`. Your submission will throw an error if you have extra columns (beyond `LoanID` and `predicted_probaility`) or extra rows.\n",
    "\n",
    "The file should have exactly 2 columns:\n",
    "`LoanID` (sorted in any order)\n",
    "`predicted_probability` (contains your numeric predicted probabilities between 0 and 1, e.g. from `estimator.predict_proba(X, y)[:, 1]`)\n",
    "\n",
    "The naming convention of the dataframe and columns are critical for our autograding, so please make sure to use the exact naming conventions of `prediction_df` with column names `LoanID` and `predicted_probability`!"
   ]
  },
  {
   "cell_type": "markdown",
   "metadata": {},
   "source": [
    "### Example prediction submission:\n",
    "\n",
    "The code below is a very naive prediction method that simply predicts loan defaults using a Dummy Classifier. This is used as just an example showing the submission format required. Please change/alter/delete this code below and create your own improved prediction methods for generating `prediction_df`."
   ]
  },
  {
   "cell_type": "markdown",
   "metadata": {},
   "source": [
    "**PLEASE CHANGE CODE BELOW TO IMPLEMENT YOUR OWN PREDICTIONS**"
   ]
  },
  {
   "cell_type": "code",
   "execution_count": null,
   "metadata": {},
   "outputs": [],
   "source": [
    "\n",
    "# Use our dummy classifier to make predictions on test_df using `predict_proba` method:\n",
    "predicted_probability = model.predict_proba(test_df.drop(['LoanID'], axis=1))[:, 1]\n",
    "predicted_probability.shape"
   ]
  },
  {
   "cell_type": "code",
   "execution_count": null,
   "metadata": {},
   "outputs": [],
   "source": [
    "\n",
    "# Combine predictions with label column into a dataframe\n",
    "prediction_df = pd.DataFrame({'LoanID': test_df[['LoanID']].values[:, 0],'predicted_probability': predicted_probability})"
   ]
  },
  {
   "cell_type": "code",
   "execution_count": null,
   "metadata": {},
   "outputs": [],
   "source": [
    "\n",
    "\n",
    "# View our 'prediction_df' dataframe as required for submission.\n",
    "# Ensure it should contain 104,480 rows and 2 columns 'LoanID' and 'predicted_probaility'\n",
    "print(prediction_df.shape)\n",
    "prediction_df.head()\n",
    "\n",
    "# Ensure the DataFrame has exactly 109,435 rows and the correct column names\n",
    "assert prediction_df.shape == (109435, 2), \"Shape mismatch: prediction_df should have 109,435 rows and 2 columns.\"\n",
    "assert set(prediction_df.columns) == {'LoanID', 'predicted_probability'}, \"Column names mismatch: prediction_df should have 'LoanID' and 'predicted_probability' columns.\""
   ]
  },
  {
   "cell_type": "markdown",
   "metadata": {},
   "source": [
    "**PLEASE CHANGE CODE ABOVE TO IMPLEMENT YOUR OWN PREDICTIONS**"
   ]
  },
  {
   "cell_type": "markdown",
   "metadata": {},
   "source": [
    "## Final Tests - **IMPORTANT** - the cells below must be run prior to submission\n",
    "\n",
    "Below are some tests to ensure your submission is in the correct format for autograding. The autograding process accepts a csv `prediction_submission.csv` which we will generate from our `prediction_df` below. Please run the tests below an ensure no assertion errors are thrown."
   ]
  },
  {
   "cell_type": "code",
   "execution_count": null,
   "metadata": {},
   "outputs": [],
   "source": [
    "# FINAL TEST CELLS - please make sure all of your code is above these test cells\n",
    "\n",
    "# Writing to csv for autograding purposes\n",
    "prediction_df.to_csv(\"prediction_submission.csv\", index=False)\n",
    "submission = pd.read_csv(\"prediction_submission.csv\")\n",
    "print(submission.shape)\n",
    "\n",
    "assert isinstance(submission, pd.DataFrame), 'You should have a dataframe named prediction_df.'"
   ]
  },
  {
   "cell_type": "code",
   "execution_count": null,
   "metadata": {},
   "outputs": [],
   "source": [
    "# FINAL TEST CELLS - please make sure all of your code is above these test cells\n",
    "\n",
    "assert submission.columns[0] == 'LoanID', 'The first column name should be CustomerID.'\n",
    "assert submission.columns[1] == 'predicted_probability', 'The second column name should be predicted_probability.'"
   ]
  },
  {
   "cell_type": "code",
   "execution_count": null,
   "metadata": {},
   "outputs": [],
   "source": [
    "# FINAL TEST CELLS - please make sure all of your code is above these test cells\n",
    "\n",
    "assert submission.shape[0] == 109435, 'The dataframe prediction_df should have 109435 rows.'"
   ]
  },
  {
   "cell_type": "code",
   "execution_count": null,
   "metadata": {},
   "outputs": [],
   "source": [
    "# FINAL TEST CELLS - please make sure all of your code is above these test cells\n",
    "\n",
    "assert submission.shape[1] == 2, 'The dataframe prediction_df should have 2 columns.'"
   ]
  },
  {
   "cell_type": "code",
   "execution_count": null,
   "metadata": {},
   "outputs": [],
   "source": [
    "# FINAL TEST CELLS - please make sure all of your code is above these test cells\n",
    "\n",
    "## This cell calculates the auc score and is hidden. Submit Assignment to see AUC score."
   ]
  },
  {
   "cell_type": "markdown",
   "metadata": {},
   "source": [
    "## SUBMIT YOUR WORK!\n",
    "\n",
    "Once we are happy with our `prediction_df` and `prediction_submission.csv` we can now submit for autograding! Submit by using the blue **Submit Assignment** at the top of your notebook. Don't worry if your initial submission isn't perfect as you have multiple submission attempts and will obtain some feedback after each submission!"
   ]
  }
 ],
 "metadata": {
  "kernelspec": {
   "display_name": "Python 3",
   "language": "python",
   "name": "python3"
  },
  "language_info": {
   "codemirror_mode": {
    "name": "ipython",
    "version": 3
   },
   "file_extension": ".py",
   "mimetype": "text/x-python",
   "name": "python",
   "nbconvert_exporter": "python",
   "pygments_lexer": "ipython3",
   "version": "3.7.6"
  }
 },
 "nbformat": 4,
 "nbformat_minor": 4
}
